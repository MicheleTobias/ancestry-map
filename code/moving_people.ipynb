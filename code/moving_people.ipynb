{
 "cells": [
  {
   "cell_type": "code",
   "execution_count": null,
   "id": "d3d5398c-c420-4991-9a97-a3e0822bfabd",
   "metadata": {},
   "outputs": [],
   "source": []
  },
  {
   "cell_type": "code",
   "execution_count": 1,
   "id": "fbeca428-0968-45da-942b-fb063d108b96",
   "metadata": {},
   "outputs": [],
   "source": [
    "# import libraries\n",
    "\n",
    "import pandas as pd\n",
    "import geopandas as gpd\n",
    "import movingpandas as mpd"
   ]
  },
  {
   "cell_type": "code",
   "execution_count": 2,
   "id": "0b9ce326-23fa-49e5-af65-a51fd305c82c",
   "metadata": {},
   "outputs": [
    {
     "data": {
      "text/html": [
       "<div>\n",
       "<style scoped>\n",
       "    .dataframe tbody tr th:only-of-type {\n",
       "        vertical-align: middle;\n",
       "    }\n",
       "\n",
       "    .dataframe tbody tr th {\n",
       "        vertical-align: top;\n",
       "    }\n",
       "\n",
       "    .dataframe thead th {\n",
       "        text-align: right;\n",
       "    }\n",
       "</style>\n",
       "<table border=\"1\" class=\"dataframe\">\n",
       "  <thead>\n",
       "    <tr style=\"text-align: right;\">\n",
       "      <th></th>\n",
       "      <th>ID\\tPerson\\tCity\\tState\\tCountry\\tStart_Date\\tlat\\tlon</th>\n",
       "    </tr>\n",
       "  </thead>\n",
       "  <tbody>\n",
       "    <tr>\n",
       "      <th>0</th>\n",
       "      <td>1\\tIda\\tKurikka\\t\\tFinland\\t1888\\t62.616816\\t2...</td>\n",
       "    </tr>\n",
       "    <tr>\n",
       "      <th>1</th>\n",
       "      <td>2\\tIda\\tBayfield\\tWisconsin\\tUnited States\\t19...</td>\n",
       "    </tr>\n",
       "    <tr>\n",
       "      <th>2</th>\n",
       "      <td>3\\tIda\\tIronwood\\tMichigan\\tUnited States\\t193...</td>\n",
       "    </tr>\n",
       "    <tr>\n",
       "      <th>3</th>\n",
       "      <td>4\\tConstance\\tBayfield\\tWisconsin\\tUnited Stat...</td>\n",
       "    </tr>\n",
       "  </tbody>\n",
       "</table>\n",
       "</div>"
      ],
      "text/plain": [
       "  ID\\tPerson\\tCity\\tState\\tCountry\\tStart_Date\\tlat\\tlon\n",
       "0  1\\tIda\\tKurikka\\t\\tFinland\\t1888\\t62.616816\\t2...    \n",
       "1  2\\tIda\\tBayfield\\tWisconsin\\tUnited States\\t19...    \n",
       "2  3\\tIda\\tIronwood\\tMichigan\\tUnited States\\t193...    \n",
       "3  4\\tConstance\\tBayfield\\tWisconsin\\tUnited Stat...    "
      ]
     },
     "execution_count": 2,
     "metadata": {},
     "output_type": "execute_result"
    }
   ],
   "source": [
    "# load data from the csv in the data directory\n",
    "    #df = pd.read_csv('../data/geolife_small.csv', delimiter=';')\n",
    "    #df\n",
    "\n",
    "df = pd.read_csv('../data/moving_people_data.csv', delimiter=';')\n",
    "\n",
    "df"
   ]
  },
  {
   "cell_type": "code",
   "execution_count": null,
   "id": "0d305426-48d9-4bad-a5db-3fd7e4c1c077",
   "metadata": {},
   "outputs": [],
   "source": []
  }
 ],
 "metadata": {
  "kernelspec": {
   "display_name": "Python 3 (ipykernel)",
   "language": "python",
   "name": "python3"
  },
  "language_info": {
   "codemirror_mode": {
    "name": "ipython",
    "version": 3
   },
   "file_extension": ".py",
   "mimetype": "text/x-python",
   "name": "python",
   "nbconvert_exporter": "python",
   "pygments_lexer": "ipython3",
   "version": "3.9.15"
  }
 },
 "nbformat": 4,
 "nbformat_minor": 5
}
